{
 "cells": [
  {
   "cell_type": "code",
   "execution_count": 1,
   "metadata": {},
   "outputs": [
    {
     "name": "stderr",
     "output_type": "stream",
     "text": [
      "c:\\Users\\kuzga\\OneDrive\\Рабочий стол\\ShiftLab-2024-Computer-Vision\\.venv\\Lib\\site-packages\\tqdm\\auto.py:21: TqdmWarning: IProgress not found. Please update jupyter and ipywidgets. See https://ipywidgets.readthedocs.io/en/stable/user_install.html\n",
      "  from .autonotebook import tqdm as notebook_tqdm\n"
     ]
    },
    {
     "data": {
      "text/plain": [
       "<torch._C.Generator at 0x1ddde9599f0>"
      ]
     },
     "execution_count": 1,
     "metadata": {},
     "output_type": "execute_result"
    }
   ],
   "source": [
    "import torchvision\n",
    "import torchvision.transforms as transforms\n",
    "import torch\n",
    "from torch import nn\n",
    "import torch.nn.functional as F\n",
    "import numpy as np\n",
    "import math\n",
    "import matplotlib.pyplot as plt\n",
    "from tqdm.auto import tqdm\n",
    "\n",
    "import IPython.display as display\n",
    "from IPython.display import clear_output\n",
    "import sys\n",
    "import time\n",
    "import datetime\n",
    "import os\n",
    "\n",
    "\n",
    "torch.manual_seed(111)"
   ]
  },
  {
   "cell_type": "code",
   "execution_count": 2,
   "metadata": {},
   "outputs": [
    {
     "name": "stdout",
     "output_type": "stream",
     "text": [
      "Device is cpu\n"
     ]
    }
   ],
   "source": [
    "device = torch.device(\"cpu\")\n",
    "# if torch.cuda.is_available():\n",
    "#     device = torch.device(\"cuda\")\n",
    "print(f\"Device is {device}\")"
   ]
  },
  {
   "cell_type": "code",
   "execution_count": 3,
   "metadata": {},
   "outputs": [
    {
     "data": {
      "image/png": "[encoded data removed]",
      "text/plain": [
       "<Figure size 1200x300 with 16 Axes>"
      ]
     },
     "metadata": {},
     "output_type": "display_data"
    }
   ],
   "source": [
    "batch_size = 32\n",
    "\n",
    "input_transform = transforms.Compose([\n",
    "    transforms.ToTensor(),\n",
    "    transforms.Normalize((0.5,), (0.5,)),\n",
    "])\n",
    "\n",
    "train_dataset = torchvision.datasets.MNIST('.', train=True, transform=input_transform, download=True)\n",
    "test_dataset = torchvision.datasets.MNIST('.', train=False, transform=input_transform, download=True)\n",
    "\n",
    "train_loader = torch.utils.data.DataLoader(train_dataset, batch_size=batch_size, shuffle=True)\n",
    "test_loader = torch.utils.data.DataLoader(test_dataset, batch_size=batch_size, shuffle=True)\n",
    "\n",
    "real_samples, mnist_labels = next(iter(train_loader))\n",
    "plt.figure(figsize=(12, 3))\n",
    "for i in range(16):\n",
    "    ax = plt.subplot(2, 8, i + 1)\n",
    "    plt.imshow(real_samples[i].squeeze(), cmap=\"gray_r\")\n",
    "    plt.xticks([])\n",
    "    plt.yticks([])"
   ]
  },
  {
   "cell_type": "code",
   "execution_count": 4,
   "metadata": {},
   "outputs": [],
   "source": [
    "def label_to_onehot(labels, length=10):\n",
    "    batch_size = labels.size(0)\n",
    "    canvas = torch.zeros(batch_size, length)\n",
    "    labels = labels.view(-1, 1)\n",
    "    return canvas.scatter_(1, labels, 1)\n",
    "\n",
    "\n",
    "def make_binary_labels(num_one, num_zero):\n",
    "    ones = torch.ones(1, num_one)\n",
    "    zeros = torch.zeros(1, num_zero)\n",
    "    return torch.cat([ones, zeros], dim=1).view(-1, 1)"
   ]
  },
  {
   "cell_type": "code",
   "execution_count": 5,
   "metadata": {},
   "outputs": [],
   "source": [
    "class Generator(nn.Module):\n",
    "    def __init__(self):\n",
    "        super(Generator, self).__init__()\n",
    "        self.mlp = nn.Sequential(\n",
    "            nn.Linear(110, 256),\n",
    "            nn.ELU(),\n",
    "            nn.Linear(256, 512),\n",
    "            nn.ELU(),\n",
    "            nn.Linear(512, 1024),\n",
    "            nn.ELU(),\n",
    "            nn.Linear(1024, 784),\n",
    "            nn.Tanh(),\n",
    "        )\n",
    "\n",
    "    def forward(self, z, c):\n",
    "        x = torch.cat([z, c], dim=1)\n",
    "        x = self.mlp(x)\n",
    "        return x.view(-1, 1, 28, 28)\n",
    "\n",
    "\n",
    "class Discriminator(nn.Module):\n",
    "    def __init__(self):\n",
    "        super(Discriminator, self).__init__()\n",
    "        self.mlp = nn.Sequential(\n",
    "            nn.Linear(794, 1024),\n",
    "            nn.ELU(),\n",
    "            nn.Dropout(0.2),\n",
    "            nn.Linear(1024, 512),\n",
    "            nn.ELU(),\n",
    "            nn.Dropout(0.2),\n",
    "            nn.Linear(512, 256),\n",
    "            nn.ELU(),\n",
    "            nn.Dropout(0.2),\n",
    "            nn.Linear(256, 1),\n",
    "            nn.Sigmoid(),\n",
    "        )\n",
    "\n",
    "    def forward(self, img, c):\n",
    "        img = img.view(-1, 28 * 28)\n",
    "        x = torch.cat([img, c], dim=1)\n",
    "        x = self.mlp(x)\n",
    "        return x\n",
    "\n",
    "\n",
    "discriminator = Discriminator().to(device)\n",
    "generator = Generator().to(device)"
   ]
  },
  {
   "cell_type": "code",
   "execution_count": 6,
   "metadata": {},
   "outputs": [],
   "source": [
    "lr = 1e-4\n",
    "num_epochs = 50\n",
    "# loss_function = nn.BCELoss()\n",
    "\n",
    "optimizer_discriminator = torch.optim.Adam(discriminator.parameters(), lr=lr, betas=(0.9, 0.999))\n",
    "optimizer_generator = torch.optim.Adam(generator.parameters(), lr=lr, betas=(0.9, 0.999))"
   ]
  },
  {
   "cell_type": "code",
   "execution_count": 7,
   "metadata": {},
   "outputs": [
    {
     "name": "stdout",
     "output_type": "stream",
     "text": [
      "epoch 0 "
     ]
    },
    {
     "name": "stderr",
     "output_type": "stream",
     "text": [
      " 32%|███▏      | 603/1875 [00:16<00:34, 37.24it/s]\n"
     ]
    },
    {
     "ename": "KeyboardInterrupt",
     "evalue": "",
     "output_type": "error",
     "traceback": [
      "\u001b[1;31m---------------------------------------------------------------------------\u001b[0m",
      "\u001b[1;31mKeyboardInterrupt\u001b[0m                         Traceback (most recent call last)",
      "Cell \u001b[1;32mIn[7], line 42\u001b[0m\n\u001b[0;32m     39\u001b[0m fake_out \u001b[38;5;241m=\u001b[39m discriminator(fake, onehot)\n\u001b[0;32m     40\u001b[0m y \u001b[38;5;241m=\u001b[39m make_binary_labels(batch_size, \u001b[38;5;241m0\u001b[39m)\u001b[38;5;241m.\u001b[39mto(device)\n\u001b[1;32m---> 42\u001b[0m loss \u001b[38;5;241m=\u001b[39m \u001b[43mF\u001b[49m\u001b[38;5;241;43m.\u001b[39;49m\u001b[43mbinary_cross_entropy\u001b[49m\u001b[43m(\u001b[49m\u001b[43mfake_out\u001b[49m\u001b[43m,\u001b[49m\u001b[43m \u001b[49m\u001b[43my\u001b[49m\u001b[43m)\u001b[49m\n\u001b[0;32m     43\u001b[0m optimizer_generator\u001b[38;5;241m.\u001b[39mzero_grad()\n\u001b[0;32m     44\u001b[0m loss\u001b[38;5;241m.\u001b[39mbackward()\n",
      "File \u001b[1;32mc:\\Users\\kuzga\\OneDrive\\Рабочий стол\\ShiftLab-2024-Computer-Vision\\.venv\\Lib\\site-packages\\torch\\nn\\functional.py:3172\u001b[0m, in \u001b[0;36mbinary_cross_entropy\u001b[1;34m(input, target, weight, size_average, reduce, reduction)\u001b[0m\n\u001b[0;32m   3169\u001b[0m     new_size \u001b[38;5;241m=\u001b[39m _infer_size(target\u001b[38;5;241m.\u001b[39msize(), weight\u001b[38;5;241m.\u001b[39msize())\n\u001b[0;32m   3170\u001b[0m     weight \u001b[38;5;241m=\u001b[39m weight\u001b[38;5;241m.\u001b[39mexpand(new_size)\n\u001b[1;32m-> 3172\u001b[0m \u001b[38;5;28;01mreturn\u001b[39;00m \u001b[43mtorch\u001b[49m\u001b[38;5;241;43m.\u001b[39;49m\u001b[43m_C\u001b[49m\u001b[38;5;241;43m.\u001b[39;49m\u001b[43m_nn\u001b[49m\u001b[38;5;241;43m.\u001b[39;49m\u001b[43mbinary_cross_entropy\u001b[49m\u001b[43m(\u001b[49m\u001b[38;5;28;43minput\u001b[39;49m\u001b[43m,\u001b[49m\u001b[43m \u001b[49m\u001b[43mtarget\u001b[49m\u001b[43m,\u001b[49m\u001b[43m \u001b[49m\u001b[43mweight\u001b[49m\u001b[43m,\u001b[49m\u001b[43m \u001b[49m\u001b[43mreduction_enum\u001b[49m\u001b[43m)\u001b[49m\n",
      "\u001b[1;31mKeyboardInterrupt\u001b[0m: "
     ]
    }
   ],
   "source": [
    "output_dir = datetime.datetime.now().strftime(\"MNIST-GAN-EVO_%Y-%m-%d_%H-%M-%S\")\n",
    "os.makedirs(output_dir, exist_ok=True)\n",
    "\n",
    "num_epochs = 100\n",
    "fixed_noise = torch.randn(10, 100).to(device)\n",
    "for epoch in range(num_epochs):\n",
    "    print('epoch', epoch, end=' ')\n",
    "    # Train\n",
    "    for img, label in tqdm(train_loader):\n",
    "        real = img.to(device)\n",
    "        onehot = label_to_onehot(label).to(device)\n",
    "        batch_size = real.size(0)\n",
    "\n",
    "        # Discriminator\n",
    "        discriminator.train()\n",
    "        generator.eval()\n",
    "        z = torch.randn(batch_size, 100).to(device)\n",
    "        fake = generator(z, onehot).detach()\n",
    "\n",
    "        fake_out = discriminator(fake, onehot)\n",
    "        real_out = discriminator(real, onehot)\n",
    "\n",
    "        fake_y = make_binary_labels(0, batch_size).to(device)\n",
    "        real_y = make_binary_labels(batch_size, 0).to(device)\n",
    "\n",
    "        fake_loss = F.binary_cross_entropy(fake_out, fake_y)\n",
    "        real_loss = F.binary_cross_entropy(real_out, real_y)\n",
    "\n",
    "        loss = fake_loss + real_loss\n",
    "        optimizer_discriminator.zero_grad()\n",
    "        loss.backward()\n",
    "        optimizer_discriminator.step()\n",
    "\n",
    "        # Generator\n",
    "        generator.train()\n",
    "        discriminator.eval()\n",
    "        z = torch.randn(batch_size, 100).to(device)\n",
    "        fake = generator(z, onehot)\n",
    "        fake_out = discriminator(fake, onehot)\n",
    "        y = make_binary_labels(batch_size, 0).to(device)\n",
    "\n",
    "        loss = F.binary_cross_entropy(fake_out, y)\n",
    "        optimizer_generator.zero_grad()\n",
    "        loss.backward()\n",
    "        optimizer_generator.step()\n",
    "\n",
    "    # Test\n",
    "    discriminator.eval()\n",
    "    generator.eval()\n",
    "\n",
    "    labels = torch.arange(10).long()\n",
    "    onehot = label_to_onehot(labels)\n",
    "\n",
    "    fake = generator(fixed_noise, onehot)\n",
    "    plt.figure(figsize=(20, 2))\n",
    "    for i in range(10):\n",
    "        label = labels[i]\n",
    "        img = fake[i][0].detach()\n",
    "        plt.subplot(1, 10, i + 1)\n",
    "        plt.imshow(img, cmap='gray')\n",
    "        plt.xticks([])\n",
    "        plt.yticks([])\n",
    "    plt.show()\n",
    "    plt.savefig(f\"{output_dir}/{epoch}.png\")\n",
    "\n",
    "torch.save({\n",
    "    'generator': generator.state_dict(),\n",
    "    'discriminator': discriminator.state_dict(),\n",
    "}, f\"{output_dir}/state_dict.pkl\")"
   ]
  }
 ],
 "metadata": {
  "kernelspec": {
   "display_name": ".venv",
   "language": "python",
   "name": "python3"
  },
  "language_info": {
   "codemirror_mode": {
    "name": "ipython",
    "version": 3
   },
   "file_extension": ".py",
   "mimetype": "text/x-python",
   "name": "python",
   "nbconvert_exporter": "python",
   "pygments_lexer": "ipython3",
   "version": "3.12.3"
  }
 },
 "nbformat": 4,
 "nbformat_minor": 2
}
