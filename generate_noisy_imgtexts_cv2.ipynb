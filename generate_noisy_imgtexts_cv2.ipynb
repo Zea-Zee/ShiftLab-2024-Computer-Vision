{
 "cells": [
  {
   "cell_type": "code",
   "execution_count": 1,
   "metadata": {},
   "outputs": [
    {
     "name": "stderr",
     "output_type": "stream",
     "text": [
      "[nltk_data] Downloading package words to\n",
      "[nltk_data]     C:\\Users\\kuzga\\AppData\\Roaming\\nltk_data...\n",
      "[nltk_data]   Package words is already up-to-date!\n",
      "[nltk_data] Downloading package words to\n",
      "[nltk_data]     C:\\Users\\kuzga\\AppData\\Roaming\\nltk_data...\n",
      "[nltk_data]   Package words is already up-to-date!\n"
     ]
    },
    {
     "data": {
      "text/plain": [
       "<module 'config' from 'c:\\\\Users\\\\kuzga\\\\OneDrive\\\\Рабочий стол\\\\ShiftLab-2024-Computer-Vision\\\\config.py'>"
      ]
     },
     "execution_count": 1,
     "metadata": {},
     "output_type": "execute_result"
    }
   ],
   "source": [
    "from PIL import Image, ImageDraw, ImageFont\n",
    "import matplotlib.pyplot as plt\n",
    "import numpy as np\n",
    "import cv2\n",
    "import random\n",
    "\n",
    "import importlib\n",
    "import config\n",
    "\n",
    "importlib.reload(config)\n",
    "# from datasets import load_dataset\n"
   ]
  },
  {
   "cell_type": "code",
   "execution_count": 2,
   "metadata": {},
   "outputs": [],
   "source": [
    "image_size = 64"
   ]
  },
  {
   "cell_type": "code",
   "execution_count": 3,
   "metadata": {},
   "outputs": [],
   "source": [
    "def cv2_show(img, key='q', time=0, window_name='cv2'):\n",
    "    print(time)\n",
    "    cv2.imshow(window_name, img)\n",
    "    if time:\n",
    "        cv2.waitKey(time)\n",
    "        cv2.destroyAllWindows()\n",
    "    else:\n",
    "        printed_key = cv2.waitKey(0)\n",
    "        if printed_key == key:\n",
    "            cv2.destroyAllWindows()\n",
    "\n",
    "\n",
    "def stack_images(images, direction='vertical'):\n",
    "    if not images or any(img is None for img in images):\n",
    "        raise ValueError(\n",
    "            \"Список изображений пуст или содержит недопустимые значения\")\n",
    "\n",
    "    if direction == 'horizontal':\n",
    "        min_height = min(img.shape[0] for img in images)\n",
    "        resized_images = [cv2.resize(img, (int(img.shape[1] * (min_height / img.shape[0])), min_height))\n",
    "                          for img in images]\n",
    "        stacked_image = np.hstack(resized_images)\n",
    "    elif direction == 'vertical':\n",
    "        max_width = max(img.shape[1] for img in images)\n",
    "        resized_images = [cv2.resize(img, (max_width, int(img.shape[0] * (max_width / img.shape[1]))))\n",
    "                          for img in images]\n",
    "        stacked_image = np.vstack(resized_images)\n",
    "    else:\n",
    "        raise ValueError(\"direction должен быть 'horizontal' или 'vertical'\")\n",
    "\n",
    "    return stacked_image\n",
    "\n",
    "\n",
    "def add_noise_and_distortion(img):\n",
    "    noise = np.random.uniform(0, 50, img.shape).astype(np.uint8)\n",
    "    noisy_img = cv2.add(img, noise)\n",
    "\n",
    "    # искажения с помощью линий\n",
    "    num_lines = np.random.randint(0, 10)\n",
    "    for _ in range(num_lines):\n",
    "        x1, y1 = np.random.randint(\n",
    "            0, img.shape[1]), np.random.randint(0, img.shape[0])\n",
    "        x2, y2 = np.random.randint(\n",
    "            0, img.shape[1]), np.random.randint(0, img.shape[0])\n",
    "        cv2.line(noisy_img, (x1, y1), (x2, y2), (0, 0, 0), 1)\n",
    "\n",
    "    return noisy_img"
   ]
  },
  {
   "cell_type": "code",
   "execution_count": 4,
   "metadata": {},
   "outputs": [],
   "source": [
    "def generate_text_image(text, img=None, noise=False, max_char_y_offset=0.025, max_char_x_offset=0.025):\n",
    "    gen_height, gen_width = image_size, image_size * 4\n",
    "\n",
    "    if img is None:\n",
    "        background_color = np.random.randint(0, 256, size=3, dtype=np.uint8)\n",
    "        img = np.ones((gen_height, gen_width, 3), dtype=np.uint8) * background_color\n",
    "\n",
    "    font_path = random.choice(config.fonts_paths)\n",
    "    font_size = random.randint(20, 35)\n",
    "    font = ImageFont.truetype(font_path, font_size)\n",
    "\n",
    "    pil_img = Image.fromarray(img)\n",
    "    draw = ImageDraw.Draw(pil_img)\n",
    "\n",
    "    # Находим позицию текста\n",
    "    bbox = draw.textbbox((0, 0), text, font=font)\n",
    "    text_size = (bbox[2] - bbox[0], bbox[3] - bbox[1])\n",
    "\n",
    "    # Уменьшаем размер шрифта, если текст не помещается\n",
    "    while text_size[0] > img.shape[1] or text_size[1] > img.shape[0]:\n",
    "        font_size -= 1\n",
    "        font = ImageFont.truetype(font_path, font_size)\n",
    "        bbox = draw.textbbox((0, 0), text, font=font)\n",
    "        text_size = (bbox[2] - bbox[0], bbox[3] - bbox[1])\n",
    "\n",
    "    text_x = (img.shape[1] - text_size[0]) // 2\n",
    "    text_y = (img.shape[0] - text_size[1]) // 2\n",
    "\n",
    "    # Рисуем текст с небольшими случайными смещениями\n",
    "    for char in text:\n",
    "        bbox = draw.textbbox((text_x, text_y), char, font=font)\n",
    "        char_width = bbox[2] - bbox[0]\n",
    "        char_height = bbox[3] - bbox[1]\n",
    "\n",
    "        x_offset = random.randint(int(-char_width * max_char_x_offset), int(char_width * max_char_x_offset))\n",
    "        y_offset = random.randint(int(-char_height * max_char_y_offset), int(char_height * max_char_y_offset))\n",
    "        draw.text((text_x + x_offset, text_y + y_offset), char, font=font, fill=0)  # Черный текст\n",
    "\n",
    "        text_x += char_width  # Сдвигаем на ширину текущей буквы\n",
    "\n",
    "    img = np.array(pil_img)  # Преобразуем обратно в формат OpenCV\n",
    "\n",
    "    return add_noise_and_distortion(img) if noise else img"
   ]
  },
  {
   "cell_type": "code",
   "execution_count": null,
   "metadata": {},
   "outputs": [
    {
     "name": "stdout",
     "output_type": "stream",
     "text": [
      "10000\n"
     ]
    }
   ],
   "source": [
    "images = []\n",
    "\n",
    "for _ in range(10):\n",
    "    text = random.choice(config.texts)\n",
    "    result = generate_text_image(text, noise=True)\n",
    "    # print(result.shape)\n",
    "    images.append(result)\n",
    "\n",
    "stacked_images = stack_images(images)\n",
    "cv2_show(stacked_images, time=10000)"
   ]
  }
 ],
 "metadata": {
  "kernelspec": {
   "display_name": ".venv",
   "language": "python",
   "name": "python3"
  },
  "language_info": {
   "codemirror_mode": {
    "name": "ipython",
    "version": 3
   },
   "file_extension": ".py",
   "mimetype": "text/x-python",
   "name": "python",
   "nbconvert_exporter": "python",
   "pygments_lexer": "ipython3",
   "version": "3.12.3"
  }
 },
 "nbformat": 4,
 "nbformat_minor": 2
}
